{
 "cells": [
  {
   "cell_type": "markdown",
   "metadata": {},
   "source": [
    "# Привет! # \n",
    "## Это первая проба тетради на IPython. ##\n",
    "Здесь можно писать **программный код** и просто текст. Вот сейчас пишем просто текст.\n",
    "\n",
    "А еще мы можем вставлять в текст длинные цитаты, которые будут выделены особым образом. Вот таким образом.\n",
    "\n",
    ">В конце ноября, в оттепель, часов в девять утра, поезд Петербургско-Варшавской железной дороги на всех парах подходил к Петербургу. Было так сыро и туманно, что насилу рассвело; в десяти шагах, вправо и влево от дороги, трудно было разглядеть хоть что-нибудь из окон вагона. Из пассажиров были и возвращавшиеся из-за границы; но более были наполнены отделения для третьего класса, и всё людом мелким и деловым, не из очень далека. Все, как водится, устали, у всех отяжелели за ночь глаза, все назяблись, все лица были бледно-желтые, под цвет тумана. \n",
    "\n",
    "Это фрагмент текста из Достоевского.\n"
   ]
  },
  {
   "cell_type": "code",
   "execution_count": 6,
   "metadata": {
    "collapsed": false,
    "scrolled": true
   },
   "outputs": [],
   "source": [
    "text = '''В конце ноября, в оттепель, часов в девять утра, поезд Петербургско-Варшавской железной дороги на всех парах подходил к Петербургу. Было так сыро и туманно, что насилу рассвело; в десяти шагах, вправо и влево от дороги, трудно было разглядеть хоть что-нибудь из окон вагона. Из пассажиров были и возвращавшиеся из-за границы; но более были наполнены отделения для третьего класса, и всё людом мелким и деловым, не из очень далека. Все, как водится, устали, у всех отяжелели за ночь глаза, все назяблись, все лица были бледно-желтые, под цвет тумана. '''"
   ]
  },
  {
   "cell_type": "code",
   "execution_count": 7,
   "metadata": {
    "collapsed": false
   },
   "outputs": [],
   "source": [
    "text_words = text.split()"
   ]
  },
  {
   "cell_type": "markdown",
   "metadata": {},
   "source": [
    "Теперь мы получим тот же самый текст, но разделенный на слова. Символом-разделителем будет служить пробел (' '). Это разделитель по умолчанию, поскольку мы не указали ничего иного при вызове функции split()"
   ]
  },
  {
   "cell_type": "code",
   "execution_count": 9,
   "metadata": {
    "collapsed": false
   },
   "outputs": [
    {
     "name": "stdout",
     "output_type": "stream",
     "text": [
      "В\n",
      "конце\n",
      "ноября,\n",
      "в\n",
      "оттепель,\n",
      "часов\n",
      "в\n",
      "девять\n",
      "утра,\n",
      "поезд\n",
      "Петербургско-Варшавской\n",
      "железной\n",
      "дороги\n",
      "на\n",
      "всех\n",
      "парах\n",
      "подходил\n",
      "к\n",
      "Петербургу.\n",
      "Было\n",
      "так\n",
      "сыро\n",
      "и\n",
      "туманно,\n",
      "что\n",
      "насилу\n",
      "рассвело;\n",
      "в\n",
      "десяти\n",
      "шагах,\n",
      "вправо\n",
      "и\n",
      "влево\n",
      "от\n",
      "дороги,\n",
      "трудно\n",
      "было\n",
      "разглядеть\n",
      "хоть\n",
      "что-нибудь\n",
      "из\n",
      "окон\n",
      "вагона.\n",
      "Из\n",
      "пассажиров\n",
      "были\n",
      "и\n",
      "возвращавшиеся\n",
      "из-за\n",
      "границы;\n",
      "но\n",
      "более\n",
      "были\n",
      "наполнены\n",
      "отделения\n",
      "для\n",
      "третьего\n",
      "класса,\n",
      "и\n",
      "всё\n",
      "людом\n",
      "мелким\n",
      "и\n",
      "деловым,\n",
      "не\n",
      "из\n",
      "очень\n",
      "далека.\n",
      "Все,\n",
      "как\n",
      "водится,\n",
      "устали,\n",
      "у\n",
      "всех\n",
      "отяжелели\n",
      "за\n",
      "ночь\n",
      "глаза,\n",
      "все\n",
      "назяблись,\n",
      "все\n",
      "лица\n",
      "были\n",
      "бледно-желтые,\n",
      "под\n",
      "цвет\n",
      "тумана.\n"
     ]
    }
   ],
   "source": [
    "for i in (text_words):\n",
    "    print(i)"
   ]
  },
  {
   "cell_type": "markdown",
   "metadata": {},
   "source": [
    "Приведенный выше фрагмент кода выводит текст на экран по словам. Однако, здесь присутствуют знаки препинания. Как их устранить? Для этого нужно с самого начала использовать функцию replace() для каждого знака, который мы хотим удалить"
   ]
  },
  {
   "cell_type": "code",
   "execution_count": 10,
   "metadata": {
    "collapsed": true
   },
   "outputs": [],
   "source": [
    "text = text.replace(',', '')\n",
    "text = text.replace('.', '')"
   ]
  },
  {
   "cell_type": "markdown",
   "metadata": {},
   "source": [
    "Вот теперь мы получили текст, свободный от знаков препинания. И мы можем снова разделить его на слова."
   ]
  },
  {
   "cell_type": "code",
   "execution_count": 11,
   "metadata": {
    "collapsed": true
   },
   "outputs": [],
   "source": [
    "text_words_n = text.split()"
   ]
  },
  {
   "cell_type": "code",
   "execution_count": 12,
   "metadata": {
    "collapsed": false
   },
   "outputs": [
    {
     "name": "stdout",
     "output_type": "stream",
     "text": [
      "В\n",
      "конце\n",
      "ноября\n",
      "в\n",
      "оттепель\n",
      "часов\n",
      "в\n",
      "девять\n",
      "утра\n",
      "поезд\n",
      "Петербургско-Варшавской\n",
      "железной\n",
      "дороги\n",
      "на\n",
      "всех\n",
      "парах\n",
      "подходил\n",
      "к\n",
      "Петербургу\n",
      "Было\n",
      "так\n",
      "сыро\n",
      "и\n",
      "туманно\n",
      "что\n",
      "насилу\n",
      "рассвело;\n",
      "в\n",
      "десяти\n",
      "шагах\n",
      "вправо\n",
      "и\n",
      "влево\n",
      "от\n",
      "дороги\n",
      "трудно\n",
      "было\n",
      "разглядеть\n",
      "хоть\n",
      "что-нибудь\n",
      "из\n",
      "окон\n",
      "вагона\n",
      "Из\n",
      "пассажиров\n",
      "были\n",
      "и\n",
      "возвращавшиеся\n",
      "из-за\n",
      "границы;\n",
      "но\n",
      "более\n",
      "были\n",
      "наполнены\n",
      "отделения\n",
      "для\n",
      "третьего\n",
      "класса\n",
      "и\n",
      "всё\n",
      "людом\n",
      "мелким\n",
      "и\n",
      "деловым\n",
      "не\n",
      "из\n",
      "очень\n",
      "далека\n",
      "Все\n",
      "как\n",
      "водится\n",
      "устали\n",
      "у\n",
      "всех\n",
      "отяжелели\n",
      "за\n",
      "ночь\n",
      "глаза\n",
      "все\n",
      "назяблись\n",
      "все\n",
      "лица\n",
      "были\n",
      "бледно-желтые\n",
      "под\n",
      "цвет\n",
      "тумана\n"
     ]
    }
   ],
   "source": [
    "for i in (text_words_n):\n",
    "    print(i)"
   ]
  },
  {
   "cell_type": "markdown",
   "metadata": {},
   "source": [
    "And this is another small piece of text. It comes from a very well-known book.\n",
    "\n",
    ">If you happen to have read another book about Christopher Robin, you may remember that he once had a swan (or the swan had Christopher Robin, I don't know which) and that he used to call this swan Pooh. That was a long time ago, and when we said good-bye, we took the name with us, as we didn't think the swan would want it any more. Well, when Edward Bear said that he would like an exciting name all to himself, Christopher Robin said at once, without stopping to think, that he was Winnie-the-Pooh. And he was. So, as I have explained the Pooh part, I will now explain the rest of it.\n",
    " \n",
    " Do you know this book?"
   ]
  },
  {
   "cell_type": "markdown",
   "metadata": {},
   "source": [
    "Yes! Exactly! This comes from *Winnie-The-Pooh and All, All, All*  by **Alan Alexander Miln**"
   ]
  },
  {
   "cell_type": "code",
   "execution_count": 13,
   "metadata": {
    "collapsed": true
   },
   "outputs": [],
   "source": [
    "text_pooh = '''If you happen to have read another book about Christopher Robin, you may remember that he once had a swan (or the swan had Christopher Robin, I don't know which) and that he used to call this swan Pooh. That was a long time ago, and when we said good-bye, we took the name with us, as we didn't think the swan would want it any more. Well, when Edward Bear said that he would like an exciting name all to himself, Christopher Robin said at once, without stopping to think, that he was Winnie-the-Pooh. And he was. So, as I have explained the Pooh part, I will now explain the rest of it.'''"
   ]
  },
  {
   "cell_type": "code",
   "execution_count": 15,
   "metadata": {
    "collapsed": false
   },
   "outputs": [],
   "source": [
    "#print(text_pooh)"
   ]
  },
  {
   "cell_type": "markdown",
   "metadata": {},
   "source": [
    "And this is a fragment of code, that uses Turtle Graphics"
   ]
  },
  {
   "cell_type": "code",
   "execution_count": 17,
   "metadata": {
    "collapsed": false,
    "scrolled": true
   },
   "outputs": [],
   "source": [
    "import turtle\n",
    "\n",
    "window = turtle.Screen()\n",
    "window.title('Third Lesson')\n",
    "window.bgcolor('black')\n",
    "\n",
    "tom = turtle.Turtle()\n",
    "colors = ['#ff796c', '#aaff32', '#0504aa', 'yellow', 'purple', 'magenta']\n",
    "i = 0\n",
    "\n",
    "for angle in range(0, 360, 15): \n",
    "    tom.color(colors[i%6])\n",
    "    tom.seth(angle)\n",
    "    tom.fd(200)\n",
    "    tom.left(120)\n",
    "    tom.fd(200)\n",
    "    tom.left(120)\n",
    "    tom.fd(200)\n",
    "    i += 1\n",
    "\n",
    "window.exitonclick()"
   ]
  },
  {
   "cell_type": "markdown",
   "metadata": {},
   "source": [
    "The above code draws a colorfull flower, made of different triangles."
   ]
  },
  {
   "cell_type": "markdown",
   "metadata": {},
   "source": [
    "![alt text](Turtle_Flower.png \"Title\")"
   ]
  },
  {
   "cell_type": "code",
   "execution_count": null,
   "metadata": {
    "collapsed": true
   },
   "outputs": [],
   "source": []
  }
 ],
 "metadata": {
  "kernelspec": {
   "display_name": "Python 3",
   "language": "python",
   "name": "python3"
  },
  "language_info": {
   "codemirror_mode": {
    "name": "ipython",
    "version": 3
   },
   "file_extension": ".py",
   "mimetype": "text/x-python",
   "name": "python",
   "nbconvert_exporter": "python",
   "pygments_lexer": "ipython3",
   "version": "3.4.3+"
  }
 },
 "nbformat": 4,
 "nbformat_minor": 0
}
